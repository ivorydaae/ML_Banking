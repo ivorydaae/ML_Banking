{
 "cells": [
  {
   "cell_type": "markdown",
   "metadata": {},
   "source": [
    "# Machine Learning Project - customer target and expected revenue in banks\n",
    "#### By Ivory YAHSUAN TAI  |  Data Scientist  |  Master Student in Data Science in EMLyon Business School"
   ]
  },
  {
   "cell_type": "markdown",
   "metadata": {},
   "source": [
    "### Project Links\n",
    "Jupiter Notebook link: https://ivorydaae.github.io/ML_Banking/#index  \n",
    "Github link: https://github.com/ivorydaae/ML_Banking  \n",
    "### Contact\n",
    "If you have further suggestions with this project, or you would like to contact me for opportunities, don't hesitate to contact me.  \n",
    "\n",
    "> **Ivory YAHSUAN TAI**  \n",
    "> *Based in Paris, France*  \n",
    "> *Data Scientist  |  Master Student in Data Science in EMLyon Business School*  \n",
    "> * **E-mail:** yahsuan.tai@sciencespo.fr  \n",
    "> * **Phone:** +33 6 10 91 14 15  \n",
    "> * **LinkedIn:** https://www.linkedin.com/in/yahsuantai/\n",
    "> * **Github:** https://github.com/ivorydaae/\n",
    "\n",
    "### Project Sumamary\n",
    "Use customer data in banking to maximize revenue from marketing campaigns.\n",
    "### Purpose\n",
    "The purpose of this project is to choose 100 clients of the bank to sell them one of the three offers in bank (Mutual Funds, Credit Card, Consumer Loan) to maximize the predicted revenue for the bank by using machine learning approaches.\n",
    "### Data\n",
    "For the analysis, I use the data “DMML_Project_Dataset.xlsx”.  \n",
    "The excel file contains several tables (on 4 excel sheets):  \n",
    "§ Social-demographical data (client ID, age, gender, tenure in a bank)  \n",
    "§ Products and actual balance (current account, saving account, mutual funds, overdraft,\n",
    "credit card, consumer loan)  \n",
    "§ Inflow/outflow on C/A, aggregated card turnover (monthly average over past 3\n",
    "months)  \n",
    "§ Clients actual sales and revenues. Data is available for 60 % of the clients.  \n",
    "### Conditions:\n",
    "The bank has capacity to contact around 100 clients with a marketing offer and each client can be targeted only once (you can't retarget).\n",
    "### Expected result:\n",
    "§ Which clients are to be targeted with which offer?  \n",
    "§ What would be the expected revenue based on your strategy?  \n",
    "\n",
    "---"
   ]
  },
  {
   "cell_type": "markdown",
   "metadata": {},
   "source": [
    "## Import library"
   ]
  },
  {
   "cell_type": "code",
   "execution_count": 1,
   "metadata": {},
   "outputs": [],
   "source": [
    "import numpy as np\n",
    "import pandas as pd\n",
    "from pandas import ExcelWriter\n",
    "from pandas import ExcelFile\n",
    "import matplotlib.pyplot as plt\n",
    "import seaborn as sns\n",
    "%matplotlib inline"
   ]
  },
  {
   "cell_type": "markdown",
   "metadata": {},
   "source": [
    "## Import & merge data"
   ]
  },
  {
   "cell_type": "code",
   "execution_count": 35,
   "metadata": {},
   "outputs": [],
   "source": [
    "# Import excel sheets\n",
    "Description = pd.read_excel('DMML_Project_Dataset.xlsx', sheet_name='Description')\n",
    "\n",
    "Inflow_Outflow = pd.read_excel('DMML_Project_Dataset.xlsx', sheet_name='Inflow_Outflow')\n",
    "Soc_Dem = pd.read_excel('DMML_Project_Dataset.xlsx', sheet_name='Soc_Dem')\n",
    "Products_ActBalance = pd.read_excel('DMML_Project_Dataset.xlsx', sheet_name='Products_ActBalance')\n",
    "Sales_Revenues = pd.read_excel('DMML_Project_Dataset.xlsx', sheet_name='Sales_Revenues')"
   ]
  },
  {
   "cell_type": "code",
   "execution_count": 36,
   "metadata": {},
   "outputs": [],
   "source": [
    "## Merge\n",
    "df = pd.merge(Soc_Dem, Inflow_Outflow, on='Client', how='inner')\n",
    "df = pd.merge(df, Products_ActBalance, on='Client', how='inner')\n",
    "\n",
    "df = df.replace(np.nan,0)\n",
    "\n",
    "# df_all: Training data with targets\n",
    "df_all = pd.merge(Sales_Revenues, df, on='Client', how='inner')\n",
    "df_all = df_all.replace(np.nan,0)"
   ]
  },
  {
   "cell_type": "markdown",
   "metadata": {},
   "source": [
    "## Adding features (for modeling)\n",
    "For the modeling later, we tried to add two features other than the original ones:\n",
    "* Saving_Ratio: to see if the client has savings or not\n",
    "* age_20: to see if the client is more than 20 years old"
   ]
  },
  {
   "cell_type": "code",
   "execution_count": 37,
   "metadata": {},
   "outputs": [
    {
     "data": {
      "text/html": [
       "<div>\n",
       "<style scoped>\n",
       "    .dataframe tbody tr th:only-of-type {\n",
       "        vertical-align: middle;\n",
       "    }\n",
       "\n",
       "    .dataframe tbody tr th {\n",
       "        vertical-align: top;\n",
       "    }\n",
       "\n",
       "    .dataframe thead th {\n",
       "        text-align: right;\n",
       "    }\n",
       "</style>\n",
       "<table border=\"1\" class=\"dataframe\">\n",
       "  <thead>\n",
       "    <tr style=\"text-align: right;\">\n",
       "      <th></th>\n",
       "      <th>Sex</th>\n",
       "      <th>Age</th>\n",
       "      <th>Tenure</th>\n",
       "      <th>VolumeCred</th>\n",
       "      <th>VolumeCred_CA</th>\n",
       "      <th>TransactionsCred</th>\n",
       "      <th>TransactionsCred_CA</th>\n",
       "      <th>VolumeDeb</th>\n",
       "      <th>VolumeDeb_CA</th>\n",
       "      <th>VolumeDebCash_Card</th>\n",
       "      <th>...</th>\n",
       "      <th>Count_CC</th>\n",
       "      <th>Count_CL</th>\n",
       "      <th>ActBal_CA</th>\n",
       "      <th>ActBal_SA</th>\n",
       "      <th>ActBal_MF</th>\n",
       "      <th>ActBal_OVD</th>\n",
       "      <th>ActBal_CC</th>\n",
       "      <th>ActBal_CL</th>\n",
       "      <th>Saving_Ratio</th>\n",
       "      <th>age_20</th>\n",
       "    </tr>\n",
       "    <tr>\n",
       "      <th>Client</th>\n",
       "      <th></th>\n",
       "      <th></th>\n",
       "      <th></th>\n",
       "      <th></th>\n",
       "      <th></th>\n",
       "      <th></th>\n",
       "      <th></th>\n",
       "      <th></th>\n",
       "      <th></th>\n",
       "      <th></th>\n",
       "      <th></th>\n",
       "      <th></th>\n",
       "      <th></th>\n",
       "      <th></th>\n",
       "      <th></th>\n",
       "      <th></th>\n",
       "      <th></th>\n",
       "      <th></th>\n",
       "      <th></th>\n",
       "      <th></th>\n",
       "      <th></th>\n",
       "    </tr>\n",
       "  </thead>\n",
       "  <tbody>\n",
       "    <tr>\n",
       "      <td>909</td>\n",
       "      <td>M</td>\n",
       "      <td>21</td>\n",
       "      <td>27</td>\n",
       "      <td>789.129643</td>\n",
       "      <td>738.230000</td>\n",
       "      <td>4</td>\n",
       "      <td>3</td>\n",
       "      <td>450.678571</td>\n",
       "      <td>448.892857</td>\n",
       "      <td>178.571429</td>\n",
       "      <td>...</td>\n",
       "      <td>0.0</td>\n",
       "      <td>1.0</td>\n",
       "      <td>4.710714</td>\n",
       "      <td>0.000000</td>\n",
       "      <td>0.000000</td>\n",
       "      <td>0.0</td>\n",
       "      <td>0.00</td>\n",
       "      <td>4291.996429</td>\n",
       "      <td>0.001096</td>\n",
       "      <td>1</td>\n",
       "    </tr>\n",
       "    <tr>\n",
       "      <td>1217</td>\n",
       "      <td>M</td>\n",
       "      <td>38</td>\n",
       "      <td>165</td>\n",
       "      <td>0.002143</td>\n",
       "      <td>0.002143</td>\n",
       "      <td>1</td>\n",
       "      <td>1</td>\n",
       "      <td>714.285714</td>\n",
       "      <td>714.285714</td>\n",
       "      <td>0.000000</td>\n",
       "      <td>...</td>\n",
       "      <td>0.0</td>\n",
       "      <td>0.0</td>\n",
       "      <td>6752.244643</td>\n",
       "      <td>0.000000</td>\n",
       "      <td>0.000000</td>\n",
       "      <td>0.0</td>\n",
       "      <td>0.00</td>\n",
       "      <td>0.000000</td>\n",
       "      <td>1.000000</td>\n",
       "      <td>1</td>\n",
       "    </tr>\n",
       "    <tr>\n",
       "      <td>850</td>\n",
       "      <td>F</td>\n",
       "      <td>49</td>\n",
       "      <td>44</td>\n",
       "      <td>1392.402857</td>\n",
       "      <td>1392.402857</td>\n",
       "      <td>3</td>\n",
       "      <td>3</td>\n",
       "      <td>1226.345357</td>\n",
       "      <td>1226.345357</td>\n",
       "      <td>0.000000</td>\n",
       "      <td>...</td>\n",
       "      <td>0.0</td>\n",
       "      <td>0.0</td>\n",
       "      <td>43.523214</td>\n",
       "      <td>0.000000</td>\n",
       "      <td>0.000000</td>\n",
       "      <td>0.0</td>\n",
       "      <td>0.00</td>\n",
       "      <td>0.000000</td>\n",
       "      <td>1.000000</td>\n",
       "      <td>1</td>\n",
       "    </tr>\n",
       "    <tr>\n",
       "      <td>1473</td>\n",
       "      <td>M</td>\n",
       "      <td>54</td>\n",
       "      <td>34</td>\n",
       "      <td>1787.127500</td>\n",
       "      <td>939.128929</td>\n",
       "      <td>14</td>\n",
       "      <td>5</td>\n",
       "      <td>3875.137857</td>\n",
       "      <td>3794.580714</td>\n",
       "      <td>357.142857</td>\n",
       "      <td>...</td>\n",
       "      <td>1.0</td>\n",
       "      <td>1.0</td>\n",
       "      <td>29.024286</td>\n",
       "      <td>14447.801429</td>\n",
       "      <td>0.000000</td>\n",
       "      <td>0.0</td>\n",
       "      <td>653.91</td>\n",
       "      <td>1132.590357</td>\n",
       "      <td>0.890152</td>\n",
       "      <td>1</td>\n",
       "    </tr>\n",
       "    <tr>\n",
       "      <td>1038</td>\n",
       "      <td>M</td>\n",
       "      <td>29</td>\n",
       "      <td>106</td>\n",
       "      <td>0.006071</td>\n",
       "      <td>0.006071</td>\n",
       "      <td>1</td>\n",
       "      <td>1</td>\n",
       "      <td>0.000000</td>\n",
       "      <td>0.000000</td>\n",
       "      <td>0.000000</td>\n",
       "      <td>...</td>\n",
       "      <td>0.0</td>\n",
       "      <td>0.0</td>\n",
       "      <td>27.035714</td>\n",
       "      <td>0.000000</td>\n",
       "      <td>0.000000</td>\n",
       "      <td>0.0</td>\n",
       "      <td>0.00</td>\n",
       "      <td>0.000000</td>\n",
       "      <td>1.000000</td>\n",
       "      <td>1</td>\n",
       "    </tr>\n",
       "    <tr>\n",
       "      <td>...</td>\n",
       "      <td>...</td>\n",
       "      <td>...</td>\n",
       "      <td>...</td>\n",
       "      <td>...</td>\n",
       "      <td>...</td>\n",
       "      <td>...</td>\n",
       "      <td>...</td>\n",
       "      <td>...</td>\n",
       "      <td>...</td>\n",
       "      <td>...</td>\n",
       "      <td>...</td>\n",
       "      <td>...</td>\n",
       "      <td>...</td>\n",
       "      <td>...</td>\n",
       "      <td>...</td>\n",
       "      <td>...</td>\n",
       "      <td>...</td>\n",
       "      <td>...</td>\n",
       "      <td>...</td>\n",
       "      <td>...</td>\n",
       "      <td>...</td>\n",
       "    </tr>\n",
       "    <tr>\n",
       "      <td>409</td>\n",
       "      <td>M</td>\n",
       "      <td>31</td>\n",
       "      <td>91</td>\n",
       "      <td>469.179643</td>\n",
       "      <td>469.179643</td>\n",
       "      <td>3</td>\n",
       "      <td>3</td>\n",
       "      <td>465.092857</td>\n",
       "      <td>465.092857</td>\n",
       "      <td>178.571429</td>\n",
       "      <td>...</td>\n",
       "      <td>0.0</td>\n",
       "      <td>0.0</td>\n",
       "      <td>348.402857</td>\n",
       "      <td>0.000000</td>\n",
       "      <td>0.000000</td>\n",
       "      <td>0.0</td>\n",
       "      <td>0.00</td>\n",
       "      <td>0.000000</td>\n",
       "      <td>1.000000</td>\n",
       "      <td>1</td>\n",
       "    </tr>\n",
       "    <tr>\n",
       "      <td>384</td>\n",
       "      <td>M</td>\n",
       "      <td>23</td>\n",
       "      <td>160</td>\n",
       "      <td>87.500357</td>\n",
       "      <td>87.500357</td>\n",
       "      <td>2</td>\n",
       "      <td>2</td>\n",
       "      <td>88.443929</td>\n",
       "      <td>88.443929</td>\n",
       "      <td>50.000000</td>\n",
       "      <td>...</td>\n",
       "      <td>0.0</td>\n",
       "      <td>0.0</td>\n",
       "      <td>2418.876786</td>\n",
       "      <td>0.000000</td>\n",
       "      <td>0.000000</td>\n",
       "      <td>0.0</td>\n",
       "      <td>0.00</td>\n",
       "      <td>0.000000</td>\n",
       "      <td>1.000000</td>\n",
       "      <td>1</td>\n",
       "    </tr>\n",
       "    <tr>\n",
       "      <td>977</td>\n",
       "      <td>M</td>\n",
       "      <td>46</td>\n",
       "      <td>59</td>\n",
       "      <td>71.428571</td>\n",
       "      <td>71.428571</td>\n",
       "      <td>1</td>\n",
       "      <td>1</td>\n",
       "      <td>76.103571</td>\n",
       "      <td>76.103571</td>\n",
       "      <td>75.000000</td>\n",
       "      <td>...</td>\n",
       "      <td>0.0</td>\n",
       "      <td>0.0</td>\n",
       "      <td>2639.308571</td>\n",
       "      <td>0.000000</td>\n",
       "      <td>0.000000</td>\n",
       "      <td>0.0</td>\n",
       "      <td>0.00</td>\n",
       "      <td>0.000000</td>\n",
       "      <td>1.000000</td>\n",
       "      <td>1</td>\n",
       "    </tr>\n",
       "    <tr>\n",
       "      <td>629</td>\n",
       "      <td>F</td>\n",
       "      <td>61</td>\n",
       "      <td>173</td>\n",
       "      <td>1064.190000</td>\n",
       "      <td>1064.190000</td>\n",
       "      <td>3</td>\n",
       "      <td>3</td>\n",
       "      <td>817.462143</td>\n",
       "      <td>817.462143</td>\n",
       "      <td>660.714286</td>\n",
       "      <td>...</td>\n",
       "      <td>0.0</td>\n",
       "      <td>0.0</td>\n",
       "      <td>61.766786</td>\n",
       "      <td>0.000000</td>\n",
       "      <td>34387.583571</td>\n",
       "      <td>0.0</td>\n",
       "      <td>0.00</td>\n",
       "      <td>0.000000</td>\n",
       "      <td>1.000000</td>\n",
       "      <td>1</td>\n",
       "    </tr>\n",
       "    <tr>\n",
       "      <td>1466</td>\n",
       "      <td>M</td>\n",
       "      <td>63</td>\n",
       "      <td>97</td>\n",
       "      <td>742.597143</td>\n",
       "      <td>742.597143</td>\n",
       "      <td>4</td>\n",
       "      <td>4</td>\n",
       "      <td>624.428571</td>\n",
       "      <td>624.428571</td>\n",
       "      <td>71.428571</td>\n",
       "      <td>...</td>\n",
       "      <td>0.0</td>\n",
       "      <td>0.0</td>\n",
       "      <td>21.627500</td>\n",
       "      <td>0.000000</td>\n",
       "      <td>0.000000</td>\n",
       "      <td>0.0</td>\n",
       "      <td>0.00</td>\n",
       "      <td>0.000000</td>\n",
       "      <td>1.000000</td>\n",
       "      <td>1</td>\n",
       "    </tr>\n",
       "  </tbody>\n",
       "</table>\n",
       "<p>1587 rows × 31 columns</p>\n",
       "</div>"
      ],
      "text/plain": [
       "       Sex  Age  Tenure   VolumeCred  VolumeCred_CA  TransactionsCred  \\\n",
       "Client                                                                  \n",
       "909      M   21      27   789.129643     738.230000                 4   \n",
       "1217     M   38     165     0.002143       0.002143                 1   \n",
       "850      F   49      44  1392.402857    1392.402857                 3   \n",
       "1473     M   54      34  1787.127500     939.128929                14   \n",
       "1038     M   29     106     0.006071       0.006071                 1   \n",
       "...     ..  ...     ...          ...            ...               ...   \n",
       "409      M   31      91   469.179643     469.179643                 3   \n",
       "384      M   23     160    87.500357      87.500357                 2   \n",
       "977      M   46      59    71.428571      71.428571                 1   \n",
       "629      F   61     173  1064.190000    1064.190000                 3   \n",
       "1466     M   63      97   742.597143     742.597143                 4   \n",
       "\n",
       "        TransactionsCred_CA    VolumeDeb  VolumeDeb_CA  VolumeDebCash_Card  \\\n",
       "Client                                                                       \n",
       "909                       3   450.678571    448.892857          178.571429   \n",
       "1217                      1   714.285714    714.285714            0.000000   \n",
       "850                       3  1226.345357   1226.345357            0.000000   \n",
       "1473                      5  3875.137857   3794.580714          357.142857   \n",
       "1038                      1     0.000000      0.000000            0.000000   \n",
       "...                     ...          ...           ...                 ...   \n",
       "409                       3   465.092857    465.092857          178.571429   \n",
       "384                       2    88.443929     88.443929           50.000000   \n",
       "977                       1    76.103571     76.103571           75.000000   \n",
       "629                       3   817.462143    817.462143          660.714286   \n",
       "1466                      4   624.428571    624.428571           71.428571   \n",
       "\n",
       "        ...  Count_CC  Count_CL    ActBal_CA     ActBal_SA     ActBal_MF  \\\n",
       "Client  ...                                                                \n",
       "909     ...       0.0       1.0     4.710714      0.000000      0.000000   \n",
       "1217    ...       0.0       0.0  6752.244643      0.000000      0.000000   \n",
       "850     ...       0.0       0.0    43.523214      0.000000      0.000000   \n",
       "1473    ...       1.0       1.0    29.024286  14447.801429      0.000000   \n",
       "1038    ...       0.0       0.0    27.035714      0.000000      0.000000   \n",
       "...     ...       ...       ...          ...           ...           ...   \n",
       "409     ...       0.0       0.0   348.402857      0.000000      0.000000   \n",
       "384     ...       0.0       0.0  2418.876786      0.000000      0.000000   \n",
       "977     ...       0.0       0.0  2639.308571      0.000000      0.000000   \n",
       "629     ...       0.0       0.0    61.766786      0.000000  34387.583571   \n",
       "1466    ...       0.0       0.0    21.627500      0.000000      0.000000   \n",
       "\n",
       "        ActBal_OVD  ActBal_CC    ActBal_CL  Saving_Ratio  age_20  \n",
       "Client                                                            \n",
       "909            0.0       0.00  4291.996429      0.001096       1  \n",
       "1217           0.0       0.00     0.000000      1.000000       1  \n",
       "850            0.0       0.00     0.000000      1.000000       1  \n",
       "1473           0.0     653.91  1132.590357      0.890152       1  \n",
       "1038           0.0       0.00     0.000000      1.000000       1  \n",
       "...            ...        ...          ...           ...     ...  \n",
       "409            0.0       0.00     0.000000      1.000000       1  \n",
       "384            0.0       0.00     0.000000      1.000000       1  \n",
       "977            0.0       0.00     0.000000      1.000000       1  \n",
       "629            0.0       0.00     0.000000      1.000000       1  \n",
       "1466           0.0       0.00     0.000000      1.000000       1  \n",
       "\n",
       "[1587 rows x 31 columns]"
      ]
     },
     "execution_count": 37,
     "metadata": {},
     "output_type": "execute_result"
    }
   ],
   "source": [
    "# df_feature: Training data without targets\n",
    "df_feature = df.set_index('Client')\n",
    "\n",
    "# Add feature 'Saving ratio'\n",
    "df_feature['Saving_Ratio'] = (df_feature['ActBal_CA']+df_feature['ActBal_SA']+df_feature['ActBal_MF'])/(df_feature['ActBal_CA']+df_feature['ActBal_SA']+df_feature['ActBal_MF']+df_feature['ActBal_OVD']+df_feature['ActBal_CC']+df_feature['ActBal_CL'])\n",
    "df_feature['age_20'] = (df_feature['Age']>20).apply(lambda x: int(x))\n",
    "#df_feature['VolumeCred_2'] = (df_feature['VolumeCred']**2)\n",
    "\n",
    "\n",
    "\n",
    "# Clean df_feature\n",
    "df_feature = df_feature.replace(np.nan,0)\n",
    "df_feature"
   ]
  },
  {
   "cell_type": "markdown",
   "metadata": {},
   "source": [
    "## Selecting features (by correlation)\n",
    "To select the features we compute the correlation of features, and generate a heat map.\n",
    "#### Correlation Heat Map:\n",
    "* The darker the color, the higher the correlation between two features"
   ]
  },
  {
   "cell_type": "code",
   "execution_count": 38,
   "metadata": {},
   "outputs": [
    {
     "data": {
      "image/png": "[encoded data removed]",
      "text/plain": [
       "<Figure size 720x432 with 2 Axes>"
      ]
     },
     "metadata": {},
     "output_type": "display_data"
    }
   ],
   "source": [
    "# Correlation\n",
    "corr = df_feature.corr()\n",
    "\n",
    "# Heatmap\n",
    "mask = np.zeros_like(corr)\n",
    "mask[np.triu_indices_from(mask)] = True\n",
    "with sns.axes_style(\"white\"):\n",
    "    f, ax = plt.subplots(figsize=(10, 6))\n",
    "    ax = sns.heatmap(corr, mask=mask,square=True, cmap=sns.cm.rocket_r)"
   ]
  },
  {
   "cell_type": "markdown",
   "metadata": {},
   "source": [
    "#### Delete one of the two features if their correlation > 0.92:\n",
    "To select the features, we drop one of the two features if they have correlation more than 0.92. "
   ]
  },
  {
   "cell_type": "code",
   "execution_count": 63,
   "metadata": {},
   "outputs": [
    {
     "name": "stdout",
     "output_type": "stream",
     "text": [
      "Index(['VolumeCred_CA'], dtype='object')\n",
      "Index(['TransactionsCred_CA'], dtype='object')\n",
      "Index(['VolumeDeb_CA'], dtype='object')\n"
     ]
    }
   ],
   "source": [
    "#selecting features: correlation >= 0.92\n",
    "columns = np.full((corr.shape[0],), True, dtype=bool)\n",
    "columns\n",
    "for i in range(corr.shape[0]):\n",
    "    for j in range(i+1, corr.shape[0]):\n",
    "        if corr.iloc[i,j] >= 0.92:\n",
    "            if columns[j]:\n",
    "                print(corr[j:j+1].index)  ## print dropped features\n",
    "                columns[j] = False\n",
    "                \n",
    "\n",
    "selected_columns = corr.columns[columns]\n",
    "df_selected_c = df_feature[selected_columns]\n",
    "\n",
    "# df_selected: data with selected features & targets  (train data only)\n",
    "# df_selected_all: data with selected features & targets  (train+target data)\n",
    "sr_c = Sales_Revenues.set_index('Client')\n",
    "df_selected_all = pd.merge(sr_c, df_selected_c, on='Client', how='right')\n",
    "df_selected = pd.merge(df_selected_c, Sales_Revenues, on='Client', how='inner')\n",
    "df_selected_all   #target data: SMF-RCL == NAN\n",
    "df_selected_all['Sale_MF'].isna().sum()\n",
    "df_selected = df_selected.set_index('Client')\n",
    "#df_selected"
   ]
  },
  {
   "cell_type": "markdown",
   "metadata": {},
   "source": [
    "#### After this step, we have 2 dataframes:\n",
    "1. **df_selected**: data with selected features & targets (train data only)\n",
    "2. **df_selected_all**: data with selected features & targets  (train+prediction data)"
   ]
  },
  {
   "cell_type": "markdown",
   "metadata": {},
   "source": [
    "## Prepare the data for modeling (to numpy)"
   ]
  },
  {
   "cell_type": "code",
   "execution_count": 40,
   "metadata": {},
   "outputs": [],
   "source": [
    "#Manipuling data: Extract X & Ys(targets) into numpy data\n",
    "df_selected_np = df_selected.to_numpy()\n",
    "X = df_selected_np[:,:df_selected.shape[1]-6]\n",
    "\n",
    "# y: all 6 targets\n",
    "y = df_selected_np[:,df_selected.shape[1]-6:df_selected.shape[1]]\n",
    "\n",
    "# seperate the targets\n",
    "y_sale_MF = df_selected_np[:,df_selected.shape[1]-6]\n",
    "y_sale_CC = df_selected_np[:,df_selected.shape[1]-5]\n",
    "y_sale_CL = df_selected_np[:,df_selected.shape[1]-4]\n",
    "\n",
    "y_revenue_MF = df_selected_np[:,df_selected.shape[1]-3]\n",
    "y_revenue_CC = df_selected_np[:,df_selected.shape[1]-2]\n",
    "y_revenue_CL = df_selected_np[:,df_selected.shape[1]-1]\n",
    "\n",
    "#X[0]"
   ]
  },
  {
   "cell_type": "markdown",
   "metadata": {},
   "source": [
    "## Split train & test data"
   ]
  },
  {
   "cell_type": "code",
   "execution_count": 41,
   "metadata": {},
   "outputs": [],
   "source": [
    "from sklearn.model_selection import train_test_split\n",
    "Xtrain, Xtest, ytrain, ytest = train_test_split(X, y, test_size=0.2,\n",
    "                                                            random_state=77)"
   ]
  },
  {
   "cell_type": "code",
   "execution_count": 42,
   "metadata": {},
   "outputs": [],
   "source": [
    "ytrain_SMF = ytrain[:,0]\n",
    "ytrain_SCC = ytrain[:,1]\n",
    "ytrain_SCL = ytrain[:,2]\n",
    "ytrain_RMF = ytrain[:,3]\n",
    "ytrain_RCC = ytrain[:,4]\n",
    "ytrain_RCL = ytrain[:,5]"
   ]
  },
  {
   "cell_type": "markdown",
   "metadata": {},
   "source": [
    "## Prepare prediction data (for later to predict sales & revenue)\n",
    "Here we try to extract the data with clients who don't have any sales_revenue data for prediction later on:"
   ]
  },
  {
   "cell_type": "code",
   "execution_count": 43,
   "metadata": {},
   "outputs": [],
   "source": [
    "# Target data: the data we want to predict \n",
    "df_target = df_selected_all[df_selected_all.index.isin(sr_c.index) == False]\n",
    "df_target = df_target.replace(np.nan,0)\n",
    "df_target_x = df_target.iloc[:,6:]\n",
    "\n",
    "df_target_x_np = df_target_x.to_numpy()\n",
    "Xtarget = df_target_x_np\n",
    "#Xtarget"
   ]
  },
  {
   "cell_type": "markdown",
   "metadata": {},
   "source": [
    "**Xtarget**: np.array data with features of the clients who are't sold anything yet."
   ]
  },
  {
   "cell_type": "markdown",
   "metadata": {},
   "source": [
    "## Modeling"
   ]
  },
  {
   "cell_type": "code",
   "execution_count": 44,
   "metadata": {},
   "outputs": [],
   "source": [
    "#import evaluation\n",
    "from sklearn import model_selection\n",
    "from sklearn.metrics import classification_report, confusion_matrix\n",
    "from sklearn.metrics import accuracy_score\n",
    "from sklearn.model_selection import cross_val_score\n",
    "from sklearn.model_selection import cross_val_predict\n",
    "from sklearn.model_selection import cross_validate\n",
    "\n",
    "#import Kfold, pipeline, scaling\n",
    "from sklearn.model_selection import KFold\n",
    "from sklearn.pipeline import Pipeline\n",
    "from sklearn.preprocessing import StandardScaler \n",
    "from sklearn.preprocessing import PolynomialFeatures\n",
    "\n",
    "#import Models\n",
    "##CLF\n",
    "from sklearn.linear_model import LogisticRegression\n",
    "from sklearn.tree import DecisionTreeClassifier\n",
    "from sklearn.ensemble import RandomForestClassifier\n",
    "from sklearn.svm import LinearSVC\n",
    "##REG\n",
    "from sklearn.linear_model import LinearRegression\n",
    "from sklearn.linear_model import Lasso\n",
    "from sklearn.svm import SVR\n",
    "from sklearn.tree import DecisionTreeRegressor\n",
    "from sklearn.ensemble import RandomForestRegressor\n"
   ]
  },
  {
   "cell_type": "markdown",
   "metadata": {},
   "source": [
    "### Cross-Validation using KFold\n",
    "In our project, we use kfold cross-validation in all the models."
   ]
  },
  {
   "cell_type": "code",
   "execution_count": 45,
   "metadata": {},
   "outputs": [],
   "source": [
    "## Cross- Val KFold\n",
    "kfold = KFold(n_splits=10, random_state=77, shuffle=True)"
   ]
  },
  {
   "cell_type": "markdown",
   "metadata": {},
   "source": [
    "## I. Classification problem: SMF, SCC, SCL\n",
    "For every model, we will generate a matrix of **precision, recall, f1, accuracy** scores to evaluate the model and fine-tuning them."
   ]
  },
  {
   "cell_type": "markdown",
   "metadata": {},
   "source": [
    "### 1. Logistic Regression "
   ]
  },
  {
   "cell_type": "code",
   "execution_count": 46,
   "metadata": {},
   "outputs": [
    {
     "name": "stdout",
     "output_type": "stream",
     "text": [
      "Logistic Regression:\n",
      "MF precision: 69.28%\n",
      "MF recall: 16.80%\n",
      "MF f1: 25.48%\n",
      "MF accuracy: 80.53%\n",
      "----------------------------------\n",
      "CC precision: 67.94%\n",
      "CC recall: 17.16%\n",
      "CC f1: 25.15%\n",
      "CC accuracy: 75.92%\n",
      "----------------------------------\n",
      "CL precision: 61.24%\n",
      "CL recall: 28.23%\n",
      "CL f1: 37.98%\n",
      "CL accuracy: 73.03%\n"
     ]
    }
   ],
   "source": [
    "## Logistic Regression: clf_logreg\n",
    "\n",
    "clf_logreg = Pipeline((\n",
    "            (\"scaler\", StandardScaler()),\n",
    "            (\"logreg\", LogisticRegression(penalty='l2',  C=100, max_iter=1000))\n",
    "        ))\n",
    "\n",
    "#Scores\n",
    "##Sales Mutual Funds\n",
    "precision_SMF = cross_val_score(clf_logreg, Xtrain, ytrain_SMF, cv=kfold, scoring='precision')\n",
    "recall_SMF    = cross_val_score(clf_logreg, Xtrain, ytrain_SMF, cv=kfold, scoring='recall')\n",
    "f1_SMF        = cross_val_score(clf_logreg, Xtrain, ytrain_SMF, cv=kfold, scoring='f1')\n",
    "acc_SMF       = cross_val_score(clf_logreg, Xtrain, ytrain_SMF, cv=kfold)\n",
    "\n",
    "##Sales Credit Card\n",
    "precision_SCC = cross_val_score(clf_logreg, Xtrain, ytrain_SCC, cv=kfold, scoring='precision')\n",
    "recall_SCC    = cross_val_score(clf_logreg, Xtrain, ytrain_SCC, cv=kfold, scoring='recall')\n",
    "f1_SCC        = cross_val_score(clf_logreg, Xtrain, ytrain_SCC, cv=kfold, scoring='f1')\n",
    "acc_SCC       = cross_val_score(clf_logreg, Xtrain, ytrain_SCC, cv=kfold)\n",
    "\n",
    "##Sales Consumer Loan\n",
    "precision_SCL = cross_val_score(clf_logreg, Xtrain, ytrain_SCL, cv=kfold, scoring='precision')\n",
    "recall_SCL    = cross_val_score(clf_logreg, Xtrain, ytrain_SCL, cv=kfold, scoring='recall')\n",
    "f1_SCL        = cross_val_score(clf_logreg, Xtrain, ytrain_SCL, cv=kfold, scoring='f1')\n",
    "acc_SCL       = cross_val_score(clf_logreg, Xtrain, ytrain_SCL, cv=kfold)\n",
    "\n",
    "#Print score\n",
    "print(\"Logistic Regression:\") \n",
    "print(\"MF precision: %.2f%%\" % (precision_SMF.mean()*100.0)) \n",
    "print(\"MF recall: %.2f%%\" % (recall_SMF.mean()*100.0)) \n",
    "print(\"MF f1: %.2f%%\" % (f1_SMF.mean()*100.0)) \n",
    "print(\"MF accuracy: %.2f%%\" % (acc_SMF.mean()*100.0)) \n",
    "print(\"----------------------------------\") \n",
    "\n",
    "\n",
    "print(\"CC precision: %.2f%%\" % (precision_SCC.mean()*100.0)) \n",
    "print(\"CC recall: %.2f%%\" % (recall_SCC.mean()*100.0)) \n",
    "print(\"CC f1: %.2f%%\" % (f1_SCC.mean()*100.0)) \n",
    "print(\"CC accuracy: %.2f%%\" % (acc_SCC.mean()*100.0)) \n",
    "print(\"----------------------------------\") \n",
    "\n",
    "print(\"CL precision: %.2f%%\" % (precision_SCL.mean()*100.0)) \n",
    "print(\"CL recall: %.2f%%\" % (recall_SCL.mean()*100.0)) \n",
    "print(\"CL f1: %.2f%%\" % (f1_SCL.mean()*100.0)) \n",
    "print(\"CL accuracy: %.2f%%\" % (acc_SCL.mean()*100.0)) \n"
   ]
  },
  {
   "cell_type": "markdown",
   "metadata": {},
   "source": [
    "#### > Logistic Regression result: \n",
    "1. SMF: ok - low recall and f1, high accuracy and precision\n",
    "2. SCC: bad - low recall and f1, not high precision, high accuracy\n",
    "3. SCL: ok - low recall, ok for precision and f1, high acc"
   ]
  },
  {
   "cell_type": "markdown",
   "metadata": {},
   "source": [
    "### 2. Decision Tree"
   ]
  },
  {
   "cell_type": "code",
   "execution_count": 47,
   "metadata": {},
   "outputs": [
    {
     "name": "stdout",
     "output_type": "stream",
     "text": [
      "Decision Tree Classifier:\n",
      "MF precision: 21.72%\n",
      "MF recall: 24.89%\n",
      "MF f1: 22.72%\n",
      "MF accuracy: 65.79%\n",
      "----------------------------------\n",
      "CC precision: 31.39%\n",
      "CC recall: 35.13%\n",
      "CC f1: 32.25%\n",
      "CC accuracy: 64.47%\n",
      "----------------------------------\n",
      "CL precision: 34.83%\n",
      "CL recall: 39.29%\n",
      "CL f1: 36.45%\n",
      "CL accuracy: 59.34%\n"
     ]
    }
   ],
   "source": [
    "## Decision Tree Classifier: clf_tree\n",
    "\n",
    "clf_tree = Pipeline((\n",
    "            (\"scaler\", StandardScaler()),\n",
    "            (\"tree\", DecisionTreeClassifier(max_depth =30,random_state=77)),\n",
    "        ))\n",
    "\n",
    "#Scores\n",
    "##Sales Mutual Funds\n",
    "precision_SMF = cross_val_score(clf_tree, Xtrain, ytrain_SMF, cv=kfold, scoring='precision')\n",
    "recall_SMF    = cross_val_score(clf_tree, Xtrain, ytrain_SMF, cv=kfold, scoring='recall')\n",
    "f1_SMF        = cross_val_score(clf_tree, Xtrain, ytrain_SMF, cv=kfold, scoring='f1')\n",
    "acc_SMF       = cross_val_score(clf_tree, Xtrain, ytrain_SMF, cv=kfold)\n",
    "\n",
    "##Sales Credit Card\n",
    "precision_SCC = cross_val_score(clf_tree, Xtrain, ytrain_SCC, cv=kfold, scoring='precision')\n",
    "recall_SCC    = cross_val_score(clf_tree, Xtrain, ytrain_SCC, cv=kfold, scoring='recall')\n",
    "f1_SCC        = cross_val_score(clf_tree, Xtrain, ytrain_SCC, cv=kfold, scoring='f1')\n",
    "acc_SCC       = cross_val_score(clf_tree, Xtrain, ytrain_SCC, cv=kfold)\n",
    "\n",
    "##Sales Consumer Loan\n",
    "precision_SCL = cross_val_score(clf_tree, Xtrain, ytrain_SCL, cv=kfold, scoring='precision')\n",
    "recall_SCL    = cross_val_score(clf_tree, Xtrain, ytrain_SCL, cv=kfold, scoring='recall')\n",
    "f1_SCL        = cross_val_score(clf_tree, Xtrain, ytrain_SCL, cv=kfold, scoring='f1')\n",
    "acc_SCL       = cross_val_score(clf_tree, Xtrain, ytrain_SCL, cv=kfold)\n",
    "\n",
    "#Print score\n",
    "print(\"Decision Tree Classifier:\") \n",
    "\n",
    "print(\"MF precision: %.2f%%\" % (precision_SMF.mean()*100.0)) \n",
    "print(\"MF recall: %.2f%%\" % (recall_SMF.mean()*100.0)) \n",
    "print(\"MF f1: %.2f%%\" % (f1_SMF.mean()*100.0)) \n",
    "print(\"MF accuracy: %.2f%%\" % (acc_SMF.mean()*100.0)) \n",
    "print(\"----------------------------------\") \n",
    "\n",
    "\n",
    "print(\"CC precision: %.2f%%\" % (precision_SCC.mean()*100.0)) \n",
    "print(\"CC recall: %.2f%%\" % (recall_SCC.mean()*100.0)) \n",
    "print(\"CC f1: %.2f%%\" % (f1_SCC.mean()*100.0)) \n",
    "print(\"CC accuracy: %.2f%%\" % (acc_SCC.mean()*100.0)) \n",
    "print(\"----------------------------------\") \n",
    "\n",
    "print(\"CL precision: %.2f%%\" % (precision_SCL.mean()*100.0)) \n",
    "print(\"CL recall: %.2f%%\" % (recall_SCL.mean()*100.0)) \n",
    "print(\"CL f1: %.2f%%\" % (f1_SCL.mean()*100.0)) \n",
    "print(\"CL accuracy: %.2f%%\" % (acc_SCL.mean()*100.0)) "
   ]
  },
  {
   "cell_type": "markdown",
   "metadata": {},
   "source": [
    "#### >  Decision Tree result: \n",
    "1. SMF: bad - low recall and f1, high accuracy and precision\n",
    "2. SCC: bad - low recall and f1, high accuracy and precisiony\n",
    "3. SCL: bad - low recall and f1, high accuracy and precisiony"
   ]
  },
  {
   "cell_type": "markdown",
   "metadata": {},
   "source": [
    "### 3. Random Forest"
   ]
  },
  {
   "cell_type": "code",
   "execution_count": 48,
   "metadata": {},
   "outputs": [
    {
     "name": "stdout",
     "output_type": "stream",
     "text": [
      "Random Forest Classifier:\n",
      "MF precision: 53.33%\n",
      "MF recall: 8.85%\n",
      "MF f1: 14.61%\n",
      "MF accuracy: 79.34%\n",
      "----------------------------------\n",
      "CC precision: 67.28%\n",
      "CC recall: 19.44%\n",
      "CC f1: 29.06%\n",
      "CC accuracy: 77.37%\n",
      "----------------------------------\n",
      "CL precision: 53.59%\n",
      "CL recall: 22.67%\n",
      "CL f1: 31.42%\n",
      "CL accuracy: 71.05%\n"
     ]
    }
   ],
   "source": [
    "## Random Forest: clf_forest\n",
    "\n",
    "clf_forest = Pipeline((\n",
    "            (\"scaler\", StandardScaler()),\n",
    "            (\"forest\", RandomForestClassifier(n_estimators=100, max_depth=20, random_state=54)),\n",
    "        ))\n",
    "\n",
    "#Scores\n",
    "##Sales Mutual Funds\n",
    "precision_SMF = cross_val_score(clf_forest, Xtrain, ytrain_SMF, cv=kfold, scoring='precision')\n",
    "recall_SMF    = cross_val_score(clf_forest, Xtrain, ytrain_SMF, cv=kfold, scoring='recall')\n",
    "f1_SMF        = cross_val_score(clf_forest, Xtrain, ytrain_SMF, cv=kfold, scoring='f1')\n",
    "acc_SMF       = cross_val_score(clf_forest, Xtrain, ytrain_SMF, cv=kfold)\n",
    "\n",
    "##Sales Credit Card\n",
    "precision_SCC = cross_val_score(clf_forest, Xtrain, ytrain_SCC, cv=kfold, scoring='precision')\n",
    "recall_SCC    = cross_val_score(clf_forest, Xtrain, ytrain_SCC, cv=kfold, scoring='recall')\n",
    "f1_SCC        = cross_val_score(clf_forest, Xtrain, ytrain_SCC, cv=kfold, scoring='f1')\n",
    "acc_SCC       = cross_val_score(clf_forest, Xtrain, ytrain_SCC, cv=kfold)\n",
    "\n",
    "##Sales Consumer Loan\n",
    "precision_SCL = cross_val_score(clf_forest, Xtrain, ytrain_SCL, cv=kfold, scoring='precision')\n",
    "recall_SCL    = cross_val_score(clf_forest, Xtrain, ytrain_SCL, cv=kfold, scoring='recall')\n",
    "f1_SCL        = cross_val_score(clf_forest, Xtrain, ytrain_SCL, cv=kfold, scoring='f1')\n",
    "acc_SCL       = cross_val_score(clf_forest, Xtrain, ytrain_SCL, cv=kfold)\n",
    "\n",
    "#Print score\n",
    "print(\"Random Forest Classifier:\") \n",
    "\n",
    "print(\"MF precision: %.2f%%\" % (precision_SMF.mean()*100.0)) \n",
    "print(\"MF recall: %.2f%%\" % (recall_SMF.mean()*100.0)) \n",
    "print(\"MF f1: %.2f%%\" % (f1_SMF.mean()*100.0)) \n",
    "print(\"MF accuracy: %.2f%%\" % (acc_SMF.mean()*100.0)) \n",
    "print(\"----------------------------------\") \n",
    "\n",
    "\n",
    "print(\"CC precision: %.2f%%\" % (precision_SCC.mean()*100.0)) \n",
    "print(\"CC recall: %.2f%%\" % (recall_SCC.mean()*100.0)) \n",
    "print(\"CC f1: %.2f%%\" % (f1_SCC.mean()*100.0)) \n",
    "print(\"CC accuracy: %.2f%%\" % (acc_SCC.mean()*100.0)) \n",
    "print(\"----------------------------------\") \n",
    "\n",
    "print(\"CL precision: %.2f%%\" % (precision_SCL.mean()*100.0)) \n",
    "print(\"CL recall: %.2f%%\" % (recall_SCL.mean()*100.0)) \n",
    "print(\"CL f1: %.2f%%\" % (f1_SCL.mean()*100.0)) \n",
    "print(\"CL accuracy: %.2f%%\" % (acc_SCL.mean()*100.0)) "
   ]
  },
  {
   "cell_type": "markdown",
   "metadata": {},
   "source": [
    "#### >  Forest result: \n",
    "1. SMF: bad - low recall and f1, ok precision, high acc\n",
    "2. SCC: ok - low recall and f1, ok precision, high acc\n",
    "3. SCL: bad - low recall and f1, ok precision, high acc"
   ]
  },
  {
   "cell_type": "markdown",
   "metadata": {},
   "source": [
    "### 4. SVM"
   ]
  },
  {
   "cell_type": "code",
   "execution_count": 49,
   "metadata": {},
   "outputs": [
    {
     "name": "stdout",
     "output_type": "stream",
     "text": [
      "SVM:\n",
      "MF precision: 70.12%\n",
      "MF recall: 13.77%\n",
      "MF f1: 22.12%\n",
      "MF accuracy: 80.39%\n",
      "----------------------------------\n",
      "CC precision: 70.86%\n",
      "CC recall: 14.13%\n",
      "CC f1: 21.88%\n",
      "CC accuracy: 76.05%\n",
      "----------------------------------\n",
      "CL precision: 61.05%\n",
      "CL recall: 26.45%\n",
      "CL f1: 36.56%\n",
      "CL accuracy: 72.89%\n"
     ]
    }
   ],
   "source": [
    "## SVM: clf_svm\n",
    "\n",
    "clf_svm = Pipeline((\n",
    "            (\"scaler\", StandardScaler()),\n",
    "            (\"LinearSVC\", LinearSVC(random_state=77, tol=1, max_iter=1000)),\n",
    "        ))\n",
    "clf_svm = clf_svm.fit(Xtrain, ytrain_SMF)\n",
    "\n",
    "#Scores\n",
    "##Sales Mutual Funds\n",
    "precision_SMF = cross_val_score(clf_svm, Xtrain, ytrain_SMF, cv=kfold, scoring='precision')\n",
    "recall_SMF    = cross_val_score(clf_svm, Xtrain, ytrain_SMF, cv=kfold, scoring='recall')\n",
    "f1_SMF        = cross_val_score(clf_svm, Xtrain, ytrain_SMF, cv=kfold, scoring='f1')\n",
    "acc_SMF       = cross_val_score(clf_svm, Xtrain, ytrain_SMF, cv=kfold)\n",
    "\n",
    "##Sales Credit Card\n",
    "precision_SCC = cross_val_score(clf_svm, Xtrain, ytrain_SCC, cv=kfold, scoring='precision')\n",
    "recall_SCC    = cross_val_score(clf_svm, Xtrain, ytrain_SCC, cv=kfold, scoring='recall')\n",
    "f1_SCC        = cross_val_score(clf_svm, Xtrain, ytrain_SCC, cv=kfold, scoring='f1')\n",
    "acc_SCC       = cross_val_score(clf_svm, Xtrain, ytrain_SCC, cv=kfold)\n",
    "\n",
    "##Sales Consumer Loan\n",
    "precision_SCL = cross_val_score(clf_svm, Xtrain, ytrain_SCL, cv=kfold, scoring='precision')\n",
    "recall_SCL    = cross_val_score(clf_svm, Xtrain, ytrain_SCL, cv=kfold, scoring='recall')\n",
    "f1_SCL        = cross_val_score(clf_svm, Xtrain, ytrain_SCL, cv=kfold, scoring='f1')\n",
    "acc_SCL       = cross_val_score(clf_svm, Xtrain, ytrain_SCL, cv=kfold)\n",
    "\n",
    "#Print score\n",
    "print(\"SVM:\") \n",
    "\n",
    "print(\"MF precision: %.2f%%\" % (precision_SMF.mean()*100.0)) \n",
    "print(\"MF recall: %.2f%%\" % (recall_SMF.mean()*100.0)) \n",
    "print(\"MF f1: %.2f%%\" % (f1_SMF.mean()*100.0)) \n",
    "print(\"MF accuracy: %.2f%%\" % (acc_SMF.mean()*100.0)) \n",
    "print(\"----------------------------------\") \n",
    "\n",
    "\n",
    "print(\"CC precision: %.2f%%\" % (precision_SCC.mean()*100.0)) \n",
    "print(\"CC recall: %.2f%%\" % (recall_SCC.mean()*100.0)) \n",
    "print(\"CC f1: %.2f%%\" % (f1_SCC.mean()*100.0)) \n",
    "print(\"CC accuracy: %.2f%%\" % (acc_SCC.mean()*100.0)) \n",
    "print(\"----------------------------------\") \n",
    "\n",
    "print(\"CL precision: %.2f%%\" % (precision_SCL.mean()*100.0)) \n",
    "print(\"CL recall: %.2f%%\" % (recall_SCL.mean()*100.0)) \n",
    "print(\"CL f1: %.2f%%\" % (f1_SCL.mean()*100.0)) \n",
    "print(\"CL accuracy: %.2f%%\" % (acc_SCL.mean()*100.0)) "
   ]
  },
  {
   "cell_type": "markdown",
   "metadata": {},
   "source": [
    "#### >  SVM result: \n",
    "1. SMF: ok - low recall and f1, high precision and acc\n",
    "2. SCC: ok - low recall and f1, ok precision, high acc\n",
    "3. SCL: ok - low recall and f1, high precision and acc"
   ]
  },
  {
   "cell_type": "markdown",
   "metadata": {},
   "source": [
    "### Classification models choosing:\n",
    "For each target variable, we will use the model with has the best scores:\n",
    "* SMF: Logistic Regression\n",
    "* SCC: Random Forest\n",
    "* SML: Logistic Regression"
   ]
  },
  {
   "cell_type": "markdown",
   "metadata": {},
   "source": [
    "## II. Regression problem: RMF, RCC, RCL\n",
    "For every model, we will generate a matrix of **Error, MAE, MSE** to evaluate the model and fine-tuning them."
   ]
  },
  {
   "cell_type": "markdown",
   "metadata": {},
   "source": [
    "### 1. Linear Models\n",
    "### 1.1 Linear Regression"
   ]
  },
  {
   "cell_type": "code",
   "execution_count": 50,
   "metadata": {},
   "outputs": [
    {
     "name": "stdout",
     "output_type": "stream",
     "text": [
      "Linear Regression:\n",
      "MF Error: -0.60\n",
      "MF MAE:   -3.85\n",
      "MF MSE:   -121.56\n",
      "----------------------------------\n",
      "CC Error: -0.40\n",
      "CC MAE:   -4.98\n",
      "CC MSE:   -383.12\n",
      "----------------------------------\n",
      "CL Error: 0.03\n",
      "CL MAE:   -4.60\n",
      "CL MSE:   -41.88\n"
     ]
    }
   ],
   "source": [
    "## Linear Regression: reg_lin\n",
    "\n",
    "reg_lin = Pipeline((\n",
    "            (\"scaler\", StandardScaler()),\n",
    "            (\"linear\", LinearRegression())\n",
    "        ))\n",
    "\n",
    "#Scores\n",
    "##Revenues Mutual Funds\n",
    "err_RMF = cross_val_score(reg_lin, Xtrain, ytrain_RMF, cv=kfold)\n",
    "MAE_RMF = cross_val_score(reg_lin, Xtrain, ytrain_RMF, cv=kfold, scoring='neg_mean_absolute_error')\n",
    "MSE_RMF = cross_val_score(reg_lin, Xtrain, ytrain_RMF, cv=kfold, scoring='neg_mean_squared_error')\n",
    "\n",
    "\n",
    "##Revenues Credit Card\n",
    "err_RCC = cross_val_score(reg_lin, Xtrain, ytrain_RCC, cv=kfold)\n",
    "MAE_RCC = cross_val_score(reg_lin, Xtrain, ytrain_RCC, cv=kfold, scoring='neg_mean_absolute_error')\n",
    "MSE_RCC = cross_val_score(reg_lin, Xtrain, ytrain_RCC, cv=kfold, scoring='neg_mean_squared_error')\n",
    "\n",
    "\n",
    "##Revenues Consumer Loan\n",
    "err_RCL = cross_val_score(reg_lin, Xtrain, ytrain_RCL, cv=kfold)\n",
    "MAE_RCL = cross_val_score(reg_lin, Xtrain, ytrain_RCL, cv=kfold, scoring='neg_mean_absolute_error')\n",
    "MSE_RCL = cross_val_score(reg_lin, Xtrain, ytrain_RCL, cv=kfold, scoring='neg_mean_squared_error')\n",
    "\n",
    "\n",
    "#Print score\n",
    "print(\"Linear Regression:\") \n",
    "print(\"MF Error: %.2f\" % (err_RMF.mean())) \n",
    "print(\"MF MAE:   %.2f\" % (MAE_RMF.mean()))\n",
    "print(\"MF MSE:   %.2f\" % (MSE_RMF.mean()))\n",
    "print(\"----------------------------------\") \n",
    "\n",
    "print(\"CC Error: %.2f\" % (err_RCC.mean())) \n",
    "print(\"CC MAE:   %.2f\" % (MAE_RCC.mean()))\n",
    "print(\"CC MSE:   %.2f\" % (MSE_RCC.mean()))\n",
    "print(\"----------------------------------\") \n",
    "\n",
    "print(\"CL Error: %.2f\" % (err_RCL.mean())) \n",
    "print(\"CL MAE:   %.2f\" % (MAE_RCL.mean()))\n",
    "print(\"CL MSE:   %.2f\" % (MSE_RCL.mean()))"
   ]
  },
  {
   "cell_type": "markdown",
   "metadata": {},
   "source": [
    "#### >  Linear Regression result: \n",
    "1. RMF: ok   - ok MSE\n",
    "2. RCC: bad  - high MSE\n",
    "3. RCL: good - low MSE"
   ]
  },
  {
   "cell_type": "markdown",
   "metadata": {},
   "source": [
    "### 1.2 Lasso"
   ]
  },
  {
   "cell_type": "code",
   "execution_count": 51,
   "metadata": {},
   "outputs": [
    {
     "name": "stdout",
     "output_type": "stream",
     "text": [
      "Lasso:\n",
      "MF Error: -0.05\n",
      "MF MAE:   -3.34\n",
      "MF MSE:   -111.89\n",
      "----------------------------------\n",
      "CC Error: -0.09\n",
      "CC MAE:   -4.52\n",
      "CC MSE:   -375.87\n",
      "----------------------------------\n",
      "CL Error: -0.03\n",
      "CL MAE:   -4.98\n",
      "CL: MSE:   -44.22\n"
     ]
    }
   ],
   "source": [
    "## Linear Regression: reg_lin\n",
    "\n",
    "reg_lasso = Pipeline((\n",
    "            (\"scaler\", StandardScaler()),\n",
    "            (\"lasso\", Lasso(alpha=1))\n",
    "        ))\n",
    "\n",
    "#Scores\n",
    "##Revenues Mutual Funds\n",
    "err_RMF = cross_val_score(reg_lasso, Xtrain, ytrain_RMF, cv=kfold)\n",
    "MAE_RMF = cross_val_score(reg_lasso, Xtrain, ytrain_RMF, cv=kfold, scoring='neg_mean_absolute_error')\n",
    "MSE_RMF = cross_val_score(reg_lasso, Xtrain, ytrain_RMF, cv=kfold, scoring='neg_mean_squared_error')\n",
    "\n",
    "\n",
    "##Revenues Credit Card\n",
    "err_RCC = cross_val_score(reg_lasso, Xtrain, ytrain_RCC, cv=kfold)\n",
    "MAE_RCC = cross_val_score(reg_lasso, Xtrain, ytrain_RCC, cv=kfold, scoring='neg_mean_absolute_error')\n",
    "MSE_RCC = cross_val_score(reg_lasso, Xtrain, ytrain_RCC, cv=kfold, scoring='neg_mean_squared_error')\n",
    "\n",
    "\n",
    "\n",
    "##Revenues Consumer Loan\n",
    "err_RCL = cross_val_score(reg_lasso, Xtrain, ytrain_RCL, cv=kfold)\n",
    "MAE_RCL = cross_val_score(reg_lasso, Xtrain, ytrain_RCL, cv=kfold, scoring='neg_mean_absolute_error')\n",
    "MSE_RCL = cross_val_score(reg_lasso, Xtrain, ytrain_RCL, cv=kfold, scoring='neg_mean_squared_error')\n",
    "\n",
    "\n",
    "#Print score\n",
    "print(\"Lasso:\") \n",
    "print(\"MF Error: %.2f\" % (err_RMF.mean())) \n",
    "print(\"MF MAE:   %.2f\" % (MAE_RMF.mean()))\n",
    "print(\"MF MSE:   %.2f\" % (MSE_RMF.mean()))\n",
    "print(\"----------------------------------\") \n",
    "\n",
    "print(\"CC Error: %.2f\" % (err_RCC.mean())) \n",
    "print(\"CC MAE:   %.2f\" % (MAE_RCC.mean()))\n",
    "print(\"CC MSE:   %.2f\" % (MSE_RCC.mean()))\n",
    "print(\"----------------------------------\") \n",
    "\n",
    "print(\"CL Error: %.2f\" % (err_RCL.mean())) \n",
    "print(\"CL MAE:   %.2f\" % (MAE_RCL.mean()))\n",
    "print(\"CL: MSE:   %.2f\" % (MSE_RCL.mean()))\n"
   ]
  },
  {
   "cell_type": "markdown",
   "metadata": {},
   "source": [
    "#### >  Lasso result: \n",
    "1. RMF: ok   - ok MSE\n",
    "2. RCC: bad  - high MSE\n",
    "3. RCL: good - low MSE"
   ]
  },
  {
   "cell_type": "markdown",
   "metadata": {},
   "source": [
    "### 2. Decision Tree regression"
   ]
  },
  {
   "cell_type": "code",
   "execution_count": 52,
   "metadata": {},
   "outputs": [
    {
     "name": "stdout",
     "output_type": "stream",
     "text": [
      "Decision Tree regression:\n",
      "MF Error: -8.38\n",
      "MF MAE:   -4.61\n",
      "MF MSE:   -312.00\n",
      "----------------------------------\n",
      "CC Error: -54.75\n",
      "CC MAE:   -6.20\n",
      "CC MSE:   -991.96\n",
      "----------------------------------\n",
      "CL Error: -1.13\n",
      "CL MAE:   -5.30\n",
      "CL MSE:   -86.64\n"
     ]
    }
   ],
   "source": [
    "## Decision Tree regression: reg_tree\n",
    "\n",
    "reg_tree = Pipeline((\n",
    "            (\"scaler\", StandardScaler()),\n",
    "            (\"tree\", DecisionTreeRegressor(criterion='mse',max_depth=100))\n",
    "        ))\n",
    "\n",
    "#Scores\n",
    "##Revenues Mutual Funds\n",
    "err_RMF = cross_val_score(reg_tree, Xtrain, ytrain_RMF, cv=kfold)\n",
    "MAE_RMF = cross_val_score(reg_tree, Xtrain, ytrain_RMF, cv=kfold, scoring='neg_mean_absolute_error')\n",
    "MSE_RMF = cross_val_score(reg_tree, Xtrain, ytrain_RMF, cv=kfold, scoring='neg_mean_squared_error')\n",
    "\n",
    "\n",
    "##Revenues Credit Card\n",
    "err_RCC = cross_val_score(reg_tree, Xtrain, ytrain_RCC, cv=kfold)\n",
    "MAE_RCC = cross_val_score(reg_tree, Xtrain, ytrain_RCC, cv=kfold, scoring='neg_mean_absolute_error')\n",
    "MSE_RCC = cross_val_score(reg_tree, Xtrain, ytrain_RCC, cv=kfold, scoring='neg_mean_squared_error')\n",
    "\n",
    "\n",
    "\n",
    "##Revenues Consumer Loan\n",
    "err_RCL = cross_val_score(reg_tree, Xtrain, ytrain_RCL, cv=kfold)\n",
    "MAE_RCL = cross_val_score(reg_tree, Xtrain, ytrain_RCL, cv=kfold, scoring='neg_mean_absolute_error')\n",
    "MSE_RCL = cross_val_score(reg_tree, Xtrain, ytrain_RCL, cv=kfold, scoring='neg_mean_squared_error')\n",
    "\n",
    "\n",
    "#Print score\n",
    "print(\"Decision Tree regression:\") \n",
    "print(\"MF Error: %.2f\" % (err_RMF.mean())) \n",
    "print(\"MF MAE:   %.2f\" % (MAE_RMF.mean()))\n",
    "print(\"MF MSE:   %.2f\" % (MSE_RMF.mean()))\n",
    "print(\"----------------------------------\") \n",
    "\n",
    "print(\"CC Error: %.2f\" % (err_RCC.mean())) \n",
    "print(\"CC MAE:   %.2f\" % (MAE_RCC.mean()))\n",
    "print(\"CC MSE:   %.2f\" % (MSE_RCC.mean()))\n",
    "print(\"----------------------------------\") \n",
    "\n",
    "print(\"CL Error: %.2f\" % (err_RCL.mean())) \n",
    "print(\"CL MAE:   %.2f\" % (MAE_RCL.mean()))\n",
    "print(\"CL MSE:   %.2f\" % (MSE_RCL.mean()))"
   ]
  },
  {
   "cell_type": "markdown",
   "metadata": {},
   "source": [
    "#### > Decision Tree result: \n",
    "1. RMF: bad   - high MSE\n",
    "2. RCC: bad   - very high MSE\n",
    "3. RCL: bad   - high MSE"
   ]
  },
  {
   "cell_type": "markdown",
   "metadata": {},
   "source": [
    "### 3. Random Forest regression"
   ]
  },
  {
   "cell_type": "code",
   "execution_count": 53,
   "metadata": {},
   "outputs": [
    {
     "name": "stdout",
     "output_type": "stream",
     "text": [
      "Random Forest regression:\n",
      "MF Error: -1.35\n",
      "MF MAE:   -4.19\n",
      "MF MSE:   -142.84\n",
      "----------------------------------\n",
      "CC Error: -11.46\n",
      "CC MAE:   -5.37\n",
      "CC MSE:   -47.79\n",
      "----------------------------------\n",
      "CL Error: -0.17\n",
      "CL MAE:   -4.91\n",
      "CL MSE:   -86.64\n"
     ]
    }
   ],
   "source": [
    "## Random Forest regression: reg_forest\n",
    "\n",
    "reg_forest = Pipeline((\n",
    "            (\"scaler\", StandardScaler()),\n",
    "            (\"forest\", RandomForestRegressor(n_estimators=10, max_depth=1000))\n",
    "        ))\n",
    "\n",
    "#Scores\n",
    "##Revenues Mutual Funds\n",
    "err_RMF = cross_val_score(reg_forest, Xtrain, ytrain_RMF, cv=kfold)\n",
    "MAE_RMF = cross_val_score(reg_forest, Xtrain, ytrain_RMF, cv=kfold, scoring='neg_mean_absolute_error')\n",
    "MSE_RMF = cross_val_score(reg_forest, Xtrain, ytrain_RMF, cv=kfold, scoring='neg_mean_squared_error')\n",
    "\n",
    "\n",
    "##Revenues Credit Card\n",
    "err_RCC = cross_val_score(reg_forest, Xtrain, ytrain_RCC, cv=kfold)\n",
    "MAE_RCC = cross_val_score(reg_forest, Xtrain, ytrain_RCC, cv=kfold, scoring='neg_mean_absolute_error')\n",
    "MSE_RCC = cross_val_score(reg_forest, Xtrain, ytrain_RCC, cv=kfold, scoring='neg_mean_squared_error')\n",
    "\n",
    "\n",
    "\n",
    "##Revenues Consumer Loan\n",
    "err_RCL = cross_val_score(reg_forest, Xtrain, ytrain_RCL, cv=kfold)\n",
    "MAE_RCL = cross_val_score(reg_forest, Xtrain, ytrain_RCL, cv=kfold, scoring='neg_mean_absolute_error')\n",
    "MSE_RCC = cross_val_score(reg_forest, Xtrain, ytrain_RCL, cv=kfold, scoring='neg_mean_squared_error')\n",
    "\n",
    "\n",
    "#Print score\n",
    "print(\"Random Forest regression:\") \n",
    "print(\"MF Error: %.2f\" % (err_RMF.mean())) \n",
    "print(\"MF MAE:   %.2f\" % (MAE_RMF.mean()))\n",
    "print(\"MF MSE:   %.2f\" % (MSE_RMF.mean()))\n",
    "print(\"----------------------------------\") \n",
    "\n",
    "print(\"CC Error: %.2f\" % (err_RCC.mean())) \n",
    "print(\"CC MAE:   %.2f\" % (MAE_RCC.mean()))\n",
    "print(\"CC MSE:   %.2f\" % (MSE_RCC.mean()))\n",
    "print(\"----------------------------------\") \n",
    "\n",
    "print(\"CL Error: %.2f\" % (err_RCL.mean())) \n",
    "print(\"CL MAE:   %.2f\" % (MAE_RCL.mean()))\n",
    "print(\"CL MSE:   %.2f\" % (MSE_RCL.mean()))"
   ]
  },
  {
   "cell_type": "markdown",
   "metadata": {},
   "source": [
    "#### >  Random Forest result: \n",
    "1. RMF: ok   - ok MSE\n",
    "2. RCC: good - low MSE\n",
    "3. RCL: bad  - high MSE"
   ]
  },
  {
   "cell_type": "markdown",
   "metadata": {},
   "source": [
    "### 4. SVR"
   ]
  },
  {
   "cell_type": "code",
   "execution_count": 54,
   "metadata": {},
   "outputs": [
    {
     "name": "stdout",
     "output_type": "stream",
     "text": [
      "SVR:\n",
      "MF Error: -0.04\n",
      "MF MAE:   -2.21\n",
      "MF MSE:   -114.26\n",
      "----------------------------------\n",
      "CC Error: -0.02\n",
      "CC MAE:   -3.06\n",
      "CC MSE:   -380.53\n",
      "----------------------------------\n",
      "CL Error: -0.06\n",
      "CL MAE:   -3.65\n",
      "CL MSE:   -46.20\n"
     ]
    }
   ],
   "source": [
    "## SVR: svr\n",
    "\n",
    "reg_svr = Pipeline((\n",
    "            (\"scaler\", StandardScaler()),\n",
    "            (\"svr\", SVR(kernel='rbf', gamma='scale', C=10))\n",
    "        ))\n",
    "\n",
    "#Scores\n",
    "##Revenues Mutual Funds\n",
    "err_RMF = cross_val_score(reg_svr, Xtrain, ytrain_RMF, cv=kfold)\n",
    "MAE_RMF = cross_val_score(reg_svr, Xtrain, ytrain_RMF, cv=kfold, scoring='neg_mean_absolute_error')\n",
    "MSE_RMF = cross_val_score(reg_svr, Xtrain, ytrain_RMF, cv=kfold, scoring='neg_mean_squared_error')\n",
    "\n",
    "\n",
    "##Revenues Credit Card\n",
    "err_RCC = cross_val_score(reg_svr, Xtrain, ytrain_RCC, cv=kfold)\n",
    "MAE_RCC = cross_val_score(reg_svr, Xtrain, ytrain_RCC, cv=kfold, scoring='neg_mean_absolute_error')\n",
    "MSE_RCC = cross_val_score(reg_svr, Xtrain, ytrain_RCC, cv=kfold, scoring='neg_mean_squared_error')\n",
    "\n",
    "##Revenues Consumer Loan\n",
    "err_RCL = cross_val_score(reg_svr, Xtrain, ytrain_RCL, cv=kfold)\n",
    "MAE_RCL = cross_val_score(reg_svr, Xtrain, ytrain_RCL, cv=kfold, scoring='neg_mean_absolute_error')\n",
    "MSE_RCL = cross_val_score(reg_svr, Xtrain, ytrain_RCL, cv=kfold, scoring='neg_mean_squared_error')\n",
    "\n",
    "#Print score\n",
    "print(\"SVR:\") \n",
    "print(\"MF Error: %.2f\" % (err_RMF.mean())) \n",
    "print(\"MF MAE:   %.2f\" % (MAE_RMF.mean()))\n",
    "print(\"MF MSE:   %.2f\" % (MSE_RMF.mean()))\n",
    "print(\"----------------------------------\") \n",
    "\n",
    "print(\"CC Error: %.2f\" % (err_RCC.mean())) \n",
    "print(\"CC MAE:   %.2f\" % (MAE_RCC.mean()))\n",
    "print(\"CC MSE:   %.2f\" % (MSE_RCC.mean()))\n",
    "print(\"----------------------------------\") \n",
    "\n",
    "print(\"CL Error: %.2f\" % (err_RCL.mean())) \n",
    "print(\"CL MAE:   %.2f\" % (MAE_RCL.mean()))\n",
    "print(\"CL MSE:   %.2f\" % (MSE_RCL.mean()))"
   ]
  },
  {
   "cell_type": "markdown",
   "metadata": {},
   "source": [
    "#### >  SVR result: \n",
    "1. RMF: ok   - ok MSE\n",
    "2. RCC: bad  - high MSE\n",
    "3. RCL: good - low MSE"
   ]
  },
  {
   "cell_type": "markdown",
   "metadata": {},
   "source": [
    "### Regression models choosing:\n",
    "For each target variable, we will use the model with the least errors:\n",
    "* RMF: Lasso\n",
    "* RCC: Random Forest\n",
    "* RML: Linear Regression"
   ]
  },
  {
   "cell_type": "markdown",
   "metadata": {},
   "source": [
    "## Modeling: Summary\n",
    "For each target variables, we choose these models:\n",
    "* SMF: Logistic Regression\n",
    "* SCC: Random Forest\n",
    "* SML: Logistic Regression\n",
    "* RMF: Lasso\n",
    "* RCC: Random Forest\n",
    "* RML: Linear Regression"
   ]
  },
  {
   "cell_type": "markdown",
   "metadata": {},
   "source": [
    "## Prediction\n",
    "After fine-tuning the models, we will predict the sales and revenues on the clients who have'nt been sold anything yet."
   ]
  },
  {
   "cell_type": "markdown",
   "metadata": {},
   "source": [
    "### Clf Prediction\n",
    "* pre_SMF: an array with the prediction of sales of mutual funds (0 or 1) \n",
    "* pre_SCC: an array with the prediction of sales of credit card (0 or 1) \n",
    "* pre_SCC: an array with the prediction of sales of consumer loan (0 or 1) "
   ]
  },
  {
   "cell_type": "code",
   "execution_count": 55,
   "metadata": {},
   "outputs": [],
   "source": [
    "# SMF prediction: logreg\n",
    "clf_logreg.fit(Xtrain, ytrain_SMF)\n",
    "pre_SMF = clf_logreg.predict(Xtarget).astype(int)\n",
    "\n",
    "# SCC prediction: forest\n",
    "clf_forest.fit(Xtrain, ytrain_SCC)\n",
    "pre_SCC = clf_forest.predict(Xtarget).astype(int)\n",
    "\n",
    "# SCL prediction: logreg\n",
    "clf_logreg.fit(Xtrain, ytrain_SCL)\n",
    "pre_SCL = clf_logreg.predict(Xtarget).astype(int)\n"
   ]
  },
  {
   "cell_type": "markdown",
   "metadata": {},
   "source": [
    "### Reg Prediction\n",
    "* pre_RMF: an array with the prediction of revenues of mutual funds (0 or 1) \n",
    "* pre_RCC: an array with the prediction of revenues of credit card (0 or 1) \n",
    "* pre_RCC: an array with the prediction of revenues of consumer loan (0 or 1) "
   ]
  },
  {
   "cell_type": "code",
   "execution_count": 56,
   "metadata": {},
   "outputs": [],
   "source": [
    "# RMF prediction: lasso\n",
    "reg_lasso.fit(Xtrain, ytrain_RMF)\n",
    "pre_RMF = reg_lasso.predict(Xtarget)\n",
    "\n",
    "# RCC prediction: forest\n",
    "reg_forest.fit(Xtrain, ytrain_RCC)\n",
    "pre_RCC = reg_forest.predict(Xtarget)\n",
    "\n",
    "# RCL prediction: lin\n",
    "reg_lin.fit(Xtrain, ytrain_RCL)\n",
    "pre_RCL = reg_lin.predict(Xtarget)"
   ]
  },
  {
   "cell_type": "markdown",
   "metadata": {},
   "source": [
    "## Select 100 clients to maximize revenue"
   ]
  },
  {
   "cell_type": "code",
   "execution_count": 57,
   "metadata": {},
   "outputs": [],
   "source": [
    "## only one sale to one person\n",
    "product_MF = np.multiply(pre_SMF,pre_RMF)\n",
    "product_CC = np.multiply(pre_SCC,pre_RCC)\n",
    "product_CL = np.multiply(pre_SCL,pre_RCL)\n",
    "\n",
    "for i in range(product_MF.shape[0]):\n",
    "    if product_CC[i] > product_MF[i]:\n",
    "        product_MF[i] = 0.0\n",
    "        pre_SMF[i] = 0\n",
    "        pre_RMF[i] = 0.0\n",
    "        if product_CL[i] > product_CC[i]:\n",
    "            product_CC[i] = 0\n",
    "            pre_SCC[i] = 0\n",
    "            pre_RCC[i] = 0\n",
    "        else:\n",
    "            product_CL[i] = 0\n",
    "            pre_SCL[i] = 0\n",
    "            pre_RCL[i] = 0\n",
    "    else:\n",
    "        product_CC[i] = 0.0\n",
    "        pre_SCC[i] = 0\n",
    "        pre_RCC[i] = 0.0\n",
    "        if product_MF[i] > product_CL[i]:\n",
    "            product_CL[i] = 0\n",
    "            pre_SCL[i] = 0\n",
    "            pre_RCL[i] = 0\n",
    "        else:\n",
    "            product_MF[i] = 0\n",
    "            pre_SMF[i] = 0\n",
    "            pre_RMF[i] = 0\n",
    "\n",
    "            \n",
    "## create sale_type array\n",
    "pre_sale = np.empty(product_CL.shape[0], dtype='object')\n",
    "for i in range(product_CL.shape[0]):\n",
    "    if pre_SMF[i] == 1:\n",
    "        pre_sale[i] = 'MF'\n",
    "    elif pre_SCC[i] == 1:\n",
    "        pre_sale[i] = 'CC'\n",
    "    elif pre_SCL[i] == 1:\n",
    "        pre_sale[i] = 'CL'"
   ]
  },
  {
   "cell_type": "code",
   "execution_count": 58,
   "metadata": {},
   "outputs": [],
   "source": [
    "# Add our prediction into data\n",
    "df_target_x['Sale_MF'] = pre_SMF\n",
    "df_target_x['Sale_CC'] = pre_SCC\n",
    "df_target_x['Sale_CL'] = pre_SCL\n",
    "df_target_x['Sale'] = pre_sale\n",
    "\n",
    "\n",
    "\n",
    "df_target_x['Revenue_MF'] = product_MF\n",
    "df_target_x['Revenue_CC'] = product_CC\n",
    "df_target_x['Revenue_CL'] = product_CL\n",
    "\n",
    "# select max revenue top 100 client\n",
    "df_prediction = df_target_x\n",
    "df_prediction['Revenue'] = df_prediction[['Revenue_MF', 'Revenue_CC', 'Revenue_CL']].max(axis=1)\n",
    "list_clients = df_prediction.sort_values('Revenue',ascending=False).head(100)[['Sale', 'Revenue','Sale_MF', 'Sale_CC', 'Sale_CL','Revenue_MF', 'Revenue_CC', 'Revenue_CL']]"
   ]
  },
  {
   "cell_type": "markdown",
   "metadata": {},
   "source": [
    "#### We select 100 clients with the top 100 revenues. \n",
    "* list_clients: dataframe with 100 clients we want to target, the offer to the clients, and the revenue"
   ]
  },
  {
   "cell_type": "markdown",
   "metadata": {},
   "source": [
    "## Output: list of 100 clients to target & expected revenue\n",
    "* **clients_sale_rev**: dataframe with clients id, sales offer, and expected revenue\n",
    "* **clients_id**: list of 100 clients we want to target\n",
    "* **expected_revenue**: the value of the sum of the expected revenue of all sales"
   ]
  },
  {
   "cell_type": "code",
   "execution_count": 60,
   "metadata": {},
   "outputs": [],
   "source": [
    "clients_sale_rev = list_clients[['Sale','Revenue']]\n",
    "\n",
    "#list of 100 clients' id\n",
    "clients_id = list(clients_sale_rev.index)"
   ]
  },
  {
   "cell_type": "code",
   "execution_count": 68,
   "metadata": {},
   "outputs": [
    {
     "data": {
      "text/plain": [
       "908.054160150071"
      ]
     },
     "execution_count": 68,
     "metadata": {},
     "output_type": "execute_result"
    }
   ],
   "source": [
    "#sum of expected revenue\n",
    "expected_revenue = clients_sale_rev['Revenue'].sum()\n",
    "expected_revenue"
   ]
  },
  {
   "cell_type": "markdown",
   "metadata": {},
   "source": [
    "### Export Output\n",
    "**list_clients.xlsx**: excel file of the clients list (clients id, offer, expected revenue)"
   ]
  },
  {
   "cell_type": "code",
   "execution_count": 64,
   "metadata": {},
   "outputs": [
    {
     "data": {
      "text/html": [
       "<div>\n",
       "<style scoped>\n",
       "    .dataframe tbody tr th:only-of-type {\n",
       "        vertical-align: middle;\n",
       "    }\n",
       "\n",
       "    .dataframe tbody tr th {\n",
       "        vertical-align: top;\n",
       "    }\n",
       "\n",
       "    .dataframe thead th {\n",
       "        text-align: right;\n",
       "    }\n",
       "</style>\n",
       "<table border=\"1\" class=\"dataframe\">\n",
       "  <thead>\n",
       "    <tr style=\"text-align: right;\">\n",
       "      <th></th>\n",
       "      <th>Sale</th>\n",
       "      <th>Revenue</th>\n",
       "    </tr>\n",
       "    <tr>\n",
       "      <th>Client</th>\n",
       "      <th></th>\n",
       "      <th></th>\n",
       "    </tr>\n",
       "  </thead>\n",
       "  <tbody>\n",
       "    <tr>\n",
       "      <td>1365</td>\n",
       "      <td>CC</td>\n",
       "      <td>64.691214</td>\n",
       "    </tr>\n",
       "    <tr>\n",
       "      <td>1278</td>\n",
       "      <td>CC</td>\n",
       "      <td>44.025214</td>\n",
       "    </tr>\n",
       "    <tr>\n",
       "      <td>331</td>\n",
       "      <td>CC</td>\n",
       "      <td>43.826000</td>\n",
       "    </tr>\n",
       "    <tr>\n",
       "      <td>1077</td>\n",
       "      <td>CL</td>\n",
       "      <td>34.134872</td>\n",
       "    </tr>\n",
       "    <tr>\n",
       "      <td>1289</td>\n",
       "      <td>CL</td>\n",
       "      <td>30.702221</td>\n",
       "    </tr>\n",
       "  </tbody>\n",
       "</table>\n",
       "</div>"
      ],
      "text/plain": [
       "       Sale    Revenue\n",
       "Client                \n",
       "1365     CC  64.691214\n",
       "1278     CC  44.025214\n",
       "331      CC  43.826000\n",
       "1077     CL  34.134872\n",
       "1289     CL  30.702221"
      ]
     },
     "execution_count": 64,
     "metadata": {},
     "output_type": "execute_result"
    }
   ],
   "source": [
    "#client id, sale offer, and expected revenue\n",
    "#from pandas import to_exel()\n",
    "clients_sale_rev = list_clients[['Sale','Revenue']]\n",
    "\n",
    "#Export the output\n",
    "clients_sale_rev.to_excel('list_clients.xlsx')\n",
    "clients_sale_rev"
   ]
  }
 ],
 "metadata": {
  "kernelspec": {
   "display_name": "Python 3",
   "language": "python",
   "name": "python3"
  },
  "language_info": {
   "codemirror_mode": {
    "name": "ipython",
    "version": 3
   },
   "file_extension": ".py",
   "mimetype": "text/x-python",
   "name": "python",
   "nbconvert_exporter": "python",
   "pygments_lexer": "ipython3",
   "version": "3.7.4"
  }
 },
 "nbformat": 4,
 "nbformat_minor": 2
}
